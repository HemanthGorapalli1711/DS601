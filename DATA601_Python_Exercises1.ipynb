{
 "cells": [
  {
   "cell_type": "markdown",
   "metadata": {
    "colab_type": "text",
    "id": "view-in-github"
   },
   "source": [
    "<a href=\"https://colab.research.google.com/github/simsekergun/DATA601/blob/main/Exercises/DATA601_Python_Exercises1.ipynb\" target=\"_parent\"><img src=\"https://colab.research.google.com/assets/colab-badge.svg\" alt=\"Open In Colab\"/></a>"
   ]
  },
  {
   "cell_type": "markdown",
   "metadata": {
    "id": "vsjY3P0jxQHp"
   },
   "source": [
    "# **Python Exercises 1**\n"
   ]
  },
  {
   "cell_type": "markdown",
   "metadata": {
    "id": "yfxhBdgHGIDz"
   },
   "source": [
    "**Hello There!**\n",
    "\n",
    "Congratulations on deciding to be a part of Data revolution. This marks your first step towards your journey of becoming a Data Scientist.\n",
    "\n",
    "To become a full fledged Data Scientist, you must equip yourself with important skillset that will help you manipulate the data, retrieve insights and make machine learning models that will make as accurate predictions as possible.\n",
    "\n",
    "One of the most crucial skills in this domain is in-depth knowledge of programming and Python is one of the hottest tools out there.\n",
    "\n",
    "So let's embark on the journey of becoming a Python Hotshot!!! "
   ]
  },
  {
   "cell_type": "markdown",
   "metadata": {
    "id": "zkS5z663IEDy"
   },
   "source": [
    "## **PART-1**\n",
    "\n",
    "Why don't we warm up a little first?"
   ]
  },
  {
   "cell_type": "markdown",
   "metadata": {
    "id": "mlBrQiPPP5Fx"
   },
   "source": [
    "**Question-1:**\n",
    "\n",
    "Write a Python program to get the Python version you are using. (1)"
   ]
  },
  {
   "cell_type": "markdown",
   "metadata": {
    "id": "KaCws-4BQIEs"
   },
   "source": [
    "**Code:**"
   ]
  },
  {
   "cell_type": "code",
   "execution_count": null,
   "metadata": {
    "id": "LcamvK6bDJw4"
   },
   "outputs": [],
   "source": [
    "# Your Code"
   ]
  },
  {
   "cell_type": "code",
   "execution_count": null,
   "metadata": {
    "colab": {
     "base_uri": "https://localhost:8080/"
    },
    "id": "gL7fbzNyQUgB",
    "outputId": "713fe2f4-5172-4a58-88a5-c9fd49a95641"
   },
   "outputs": [
    {
     "name": "stdout",
     "output_type": "stream",
     "text": [
      "Python version\n",
      "3.7.12 (default, Jan 15 2022, 18:48:18) \n",
      "[GCC 7.5.0]\n",
      "Version info.\n",
      "sys.version_info(major=3, minor=7, micro=12, releaselevel='final', serial=0)\n"
     ]
    }
   ],
   "source": [
    "# Expected Output\n",
    "# Do not change anything in this cell\n",
    "# Do not run this cell"
   ]
  },
  {
   "cell_type": "markdown",
   "metadata": {
    "id": "K7qiaQbrQZdv"
   },
   "source": [
    "**Question-2:**\n",
    "\n",
    "Write a Python program to display the current date and time. (1)\n"
   ]
  },
  {
   "cell_type": "markdown",
   "metadata": {
    "id": "gB0Voc50QiB0"
   },
   "source": [
    "**Code:**"
   ]
  },
  {
   "cell_type": "code",
   "execution_count": null,
   "metadata": {
    "id": "69r_legEDW4N"
   },
   "outputs": [],
   "source": [
    "# Your Code"
   ]
  },
  {
   "cell_type": "code",
   "execution_count": null,
   "metadata": {
    "colab": {
     "base_uri": "https://localhost:8080/"
    },
    "id": "f-Xxv3lWQjym",
    "outputId": "45f46131-935f-41fc-cc72-ae0976fb14bd"
   },
   "outputs": [
    {
     "name": "stdout",
     "output_type": "stream",
     "text": [
      "Current date and time : \n",
      "2022-02-12 17:43:34\n"
     ]
    }
   ],
   "source": [
    "# Expected Output\n",
    "# Do not change anything in this cell\n",
    "# Do not run this cell"
   ]
  },
  {
   "cell_type": "markdown",
   "metadata": {
    "id": "2NCySLlqQnPl"
   },
   "source": [
    "**Question-3:**\n",
    "\n",
    "Write a Python program which accepts a sequence of comma-separated numbers from user and generate a list and a tuple with those numbers. (1)\n"
   ]
  },
  {
   "cell_type": "markdown",
   "metadata": {
    "id": "CbINOmtJQtSU"
   },
   "source": [
    "**Code:**"
   ]
  },
  {
   "cell_type": "code",
   "execution_count": null,
   "metadata": {
    "id": "CcRdaNQFDkUZ"
   },
   "outputs": [],
   "source": [
    "# Your Code"
   ]
  },
  {
   "cell_type": "code",
   "execution_count": null,
   "metadata": {
    "colab": {
     "base_uri": "https://localhost:8080/"
    },
    "id": "IQwOibMsQv7B",
    "outputId": "d5ce472f-b022-4ef3-84cb-9941bf583a9c"
   },
   "outputs": [
    {
     "name": "stdout",
     "output_type": "stream",
     "text": [
      "Input some comma seprated numbers : 3,3,5,7,0\n",
      "List :  ['3', '3', '5', '7', '0']\n",
      "Tuple :  ('3', '3', '5', '7', '0')\n"
     ]
    }
   ],
   "source": [
    "# Expected Output\n",
    "# Do not change anything in this cell\n",
    "# Do not run this cell"
   ]
  },
  {
   "cell_type": "markdown",
   "metadata": {
    "id": "QJzkQViORBih"
   },
   "source": [
    "**Question-4:**\n",
    "\n",
    "Write a Python program to display the first and last colors from the following list:\n",
    "\n",
    "[\"Red\",\"Green\",\"White\" ,\"Black\"] \n",
    "\n",
    "(1)"
   ]
  },
  {
   "cell_type": "markdown",
   "metadata": {
    "id": "IMJ4oZINRZej"
   },
   "source": [
    "**Code**"
   ]
  },
  {
   "cell_type": "code",
   "execution_count": null,
   "metadata": {
    "id": "cVqLQsqtDlMO"
   },
   "outputs": [],
   "source": [
    "# Your Code"
   ]
  },
  {
   "cell_type": "code",
   "execution_count": null,
   "metadata": {
    "colab": {
     "base_uri": "https://localhost:8080/"
    },
    "id": "tq95mrXjRdAa",
    "outputId": "7693b607-5e0e-40e1-ddff-fe16f6c8e452"
   },
   "outputs": [
    {
     "name": "stdout",
     "output_type": "stream",
     "text": [
      "Red Black\n"
     ]
    }
   ],
   "source": [
    "# Expected Output\n",
    "# Do not change anything in this cell\n",
    "# Do not run this cell"
   ]
  },
  {
   "cell_type": "markdown",
   "metadata": {
    "id": "dpQT-7sERimU"
   },
   "source": [
    "**Question-5:**\n",
    "\n",
    "Write a Python program that accepts an integer (n) and computes the value of n+nn+nnn. (1)"
   ]
  },
  {
   "cell_type": "markdown",
   "metadata": {
    "id": "GdIlmMHuRpVY"
   },
   "source": [
    "**Code**"
   ]
  },
  {
   "cell_type": "code",
   "execution_count": null,
   "metadata": {
    "id": "VbYC8pRUDl13"
   },
   "outputs": [],
   "source": [
    "# Your Code"
   ]
  },
  {
   "cell_type": "code",
   "execution_count": null,
   "metadata": {
    "colab": {
     "base_uri": "https://localhost:8080/"
    },
    "id": "MyPVVgozRryy",
    "outputId": "8cfe7dd6-ddcd-4725-99a8-df0c7cc703c7"
   },
   "outputs": [
    {
     "name": "stdout",
     "output_type": "stream",
     "text": [
      "Input an integer : 5\n",
      "615\n"
     ]
    }
   ],
   "source": [
    "# Expected Output\n",
    "# Do not change anything in this cell\n",
    "# Do not run this cell"
   ]
  },
  {
   "cell_type": "markdown",
   "metadata": {
    "id": "7jrv_lk-RvnY"
   },
   "source": [
    "**Question-6:**\n",
    "\n",
    "Write a Python program to print the documents (syntax, description etc.) of Python built-in function(s). (1)\n",
    "\n",
    "Sample function: abs()"
   ]
  },
  {
   "cell_type": "markdown",
   "metadata": {
    "id": "1qNnodB3R3kv"
   },
   "source": [
    "**Code**"
   ]
  },
  {
   "cell_type": "code",
   "execution_count": null,
   "metadata": {
    "id": "SgyZq3KMDmpB"
   },
   "outputs": [],
   "source": [
    "# Your Code"
   ]
  },
  {
   "cell_type": "code",
   "execution_count": null,
   "metadata": {
    "colab": {
     "base_uri": "https://localhost:8080/"
    },
    "id": "GQrkYIj0R5KE",
    "outputId": "5a4592ad-6d8e-435d-ba7f-d4ab5eb96fb8"
   },
   "outputs": [
    {
     "name": "stdout",
     "output_type": "stream",
     "text": [
      "Return the absolute value of the argument.\n"
     ]
    }
   ],
   "source": [
    "# Expected Output\n",
    "# Do not change anything in this cell\n",
    "# Do not run this cell"
   ]
  },
  {
   "cell_type": "markdown",
   "metadata": {
    "id": "otaZzHKpSLVK"
   },
   "source": [
    "**Question-7:**\n",
    "\n",
    "Write a Python program to test whether a passed letter is a vowel or not.(1)"
   ]
  },
  {
   "cell_type": "markdown",
   "metadata": {
    "id": "fQ85tCDtSP3p"
   },
   "source": [
    "**Code**"
   ]
  },
  {
   "cell_type": "code",
   "execution_count": null,
   "metadata": {
    "id": "seyxwL-1DndQ"
   },
   "outputs": [],
   "source": [
    "# Your Code"
   ]
  },
  {
   "cell_type": "code",
   "execution_count": null,
   "metadata": {
    "colab": {
     "base_uri": "https://localhost:8080/"
    },
    "id": "RHh0Nht4ST5k",
    "outputId": "e20cf2f1-f8c6-47b9-97fd-4512aa833c4a"
   },
   "outputs": [
    {
     "name": "stdout",
     "output_type": "stream",
     "text": [
      "False\n",
      "True\n"
     ]
    }
   ],
   "source": [
    "# Expected Output\n",
    "# Do not change anything in this cell\n",
    "# Do not run this cell"
   ]
  },
  {
   "cell_type": "markdown",
   "metadata": {
    "id": "5MeKHBv2SdDB"
   },
   "source": [
    "**Question-8:**\n",
    "\n",
    "Write a Python program to solve $(x + y) * (x + y)$. (1)"
   ]
  },
  {
   "cell_type": "markdown",
   "metadata": {
    "id": "HPIfyM6FSidR"
   },
   "source": [
    "**Code**"
   ]
  },
  {
   "cell_type": "code",
   "execution_count": null,
   "metadata": {
    "id": "CgTM2vnVDoUL"
   },
   "outputs": [],
   "source": [
    "# Your Code"
   ]
  },
  {
   "cell_type": "code",
   "execution_count": null,
   "metadata": {
    "colab": {
     "base_uri": "https://localhost:8080/"
    },
    "id": "ojeQxeI2SnmM",
    "outputId": "a38c32f7-e326-4d94-e99e-6be9c84bd5e8"
   },
   "outputs": [
    {
     "name": "stdout",
     "output_type": "stream",
     "text": [
      "(4 + 3) ^ 2) = 49\n"
     ]
    }
   ],
   "source": [
    "# Expected Output\n",
    "# Do not change anything in this cell\n",
    "# Do not run this cell"
   ]
  },
  {
   "cell_type": "markdown",
   "metadata": {
    "id": "yy0ZJYPsSs0Y"
   },
   "source": [
    "**Question-9:**\n",
    "\n",
    "Write a Python program to list all files in a directory in Python. (1)"
   ]
  },
  {
   "cell_type": "markdown",
   "metadata": {
    "id": "rx4kXtMOSxPT"
   },
   "source": [
    "**Code**"
   ]
  },
  {
   "cell_type": "code",
   "execution_count": null,
   "metadata": {
    "id": "1VfqzP9sDsUQ"
   },
   "outputs": [],
   "source": [
    "# Your Code"
   ]
  },
  {
   "cell_type": "code",
   "execution_count": null,
   "metadata": {
    "colab": {
     "base_uri": "https://localhost:8080/"
    },
    "id": "zD0nhix6SsPO",
    "outputId": "0c48d675-b8c9-4727-d78a-6b933831d9f5"
   },
   "outputs": [
    {
     "name": "stdout",
     "output_type": "stream",
     "text": [
      "['README.md', 'anscombe.json', 'california_housing_test.csv', 'california_housing_train.csv', 'mnist_train_small.csv', 'mnist_test.csv']\n"
     ]
    }
   ],
   "source": [
    "# Expected Output\n",
    "# Do not change anything in this cell\n",
    "# Do not run this cell"
   ]
  },
  {
   "cell_type": "markdown",
   "metadata": {
    "id": "Pmx92lP-S3om"
   },
   "source": [
    "**Question-10:**\n",
    "\n",
    "Write a Python program to find the sum of the first n positive integers. (1)"
   ]
  },
  {
   "cell_type": "markdown",
   "metadata": {
    "id": "UsthrpZNS82O"
   },
   "source": [
    "**Code**"
   ]
  },
  {
   "cell_type": "code",
   "execution_count": null,
   "metadata": {
    "id": "qVA97b1_DtM9"
   },
   "outputs": [],
   "source": [
    "# Your Code"
   ]
  },
  {
   "cell_type": "code",
   "execution_count": null,
   "metadata": {
    "colab": {
     "base_uri": "https://localhost:8080/"
    },
    "id": "AaQQmsmxS-LK",
    "outputId": "0268eff6-1369-4661-85db-8577e47cd014"
   },
   "outputs": [
    {
     "name": "stdout",
     "output_type": "stream",
     "text": [
      "Input a number: 8\n",
      "Sum of the first 8 positive integers: 36.0\n"
     ]
    }
   ],
   "source": [
    "# Expected Output\n",
    "# Do not change anything in this cell\n",
    "# Do not run this cell"
   ]
  },
  {
   "cell_type": "markdown",
   "metadata": {
    "id": "0DJuY_0TTpFa"
   },
   "source": [
    "##**PART-2**\n",
    "\n",
    "Time to work on variables, strings and arithmetic operators."
   ]
  },
  {
   "cell_type": "markdown",
   "metadata": {
    "id": "aHeI_UKKYdj7"
   },
   "source": [
    "**Question-11:**\n",
    "\n",
    "Swap the values of a and b using a temporary variable: (2)\n",
    "\n",
    "a = 2\n",
    "\n",
    "b = 4"
   ]
  },
  {
   "cell_type": "markdown",
   "metadata": {
    "id": "oB4KETJCYmSc"
   },
   "source": [
    "**Code**"
   ]
  },
  {
   "cell_type": "code",
   "execution_count": null,
   "metadata": {
    "id": "Bq1nm6NuDuTF"
   },
   "outputs": [],
   "source": [
    "# Your Code"
   ]
  },
  {
   "cell_type": "code",
   "execution_count": null,
   "metadata": {
    "colab": {
     "base_uri": "https://localhost:8080/"
    },
    "id": "p4qwHU64Yofs",
    "outputId": "b77a5afe-4960-43e8-f3ef-a0af191028af"
   },
   "outputs": [
    {
     "name": "stdout",
     "output_type": "stream",
     "text": [
      "values of a and b after swapping are:\n",
      " 4 \n",
      " 2\n"
     ]
    }
   ],
   "source": [
    "# Expected Output\n",
    "# Do not change anything in this cell\n",
    "# Do not run this cell"
   ]
  },
  {
   "cell_type": "markdown",
   "metadata": {
    "id": "E4nq37MlYsnF"
   },
   "source": [
    "**Question-12:**\n",
    "\n",
    "Swap the values of a and b without using a temporary variable: (2)\n",
    "\n",
    "a = 2\n",
    "\n",
    "b = 4"
   ]
  },
  {
   "cell_type": "markdown",
   "metadata": {
    "id": "nVJQmhQbZHO8"
   },
   "source": [
    "**Code**"
   ]
  },
  {
   "cell_type": "code",
   "execution_count": null,
   "metadata": {
    "id": "pp2a1cJTDvJ_"
   },
   "outputs": [],
   "source": [
    "# Your Code"
   ]
  },
  {
   "cell_type": "code",
   "execution_count": null,
   "metadata": {
    "colab": {
     "base_uri": "https://localhost:8080/"
    },
    "id": "INHPvoBaZI6Q",
    "outputId": "362f21d9-a431-46cb-fa9c-38c91c49fcb1"
   },
   "outputs": [
    {
     "name": "stdout",
     "output_type": "stream",
     "text": [
      "values of a and b after swapping are:\n",
      " 4 \n",
      " 2\n"
     ]
    }
   ],
   "source": [
    "# Expected Output\n",
    "# Do not change anything in this cell\n",
    "# Do not run this cell"
   ]
  },
  {
   "cell_type": "markdown",
   "metadata": {
    "id": "MxFaO9KuZhUa"
   },
   "source": [
    "**Question-13:**\n",
    "\n",
    "What is the area of a square with a side length of 7? What is the volume of a cube with the same edge length? (3)"
   ]
  },
  {
   "cell_type": "markdown",
   "metadata": {
    "id": "xVCmdanjcylo"
   },
   "source": [
    "**Code**"
   ]
  },
  {
   "cell_type": "code",
   "execution_count": null,
   "metadata": {
    "id": "ovRmGmEEDvxE"
   },
   "outputs": [],
   "source": [
    "# Your Code"
   ]
  },
  {
   "cell_type": "code",
   "execution_count": null,
   "metadata": {
    "colab": {
     "base_uri": "https://localhost:8080/"
    },
    "id": "z-WloIp4c1r1",
    "outputId": "78abf7ec-235d-40e5-a5a1-a19f0a2fc9ad"
   },
   "outputs": [
    {
     "name": "stdout",
     "output_type": "stream",
     "text": [
      "area of the square with a side length of 7:\n",
      " 49\n",
      "\n",
      "volume of cube with an edge length of 7:\n",
      " 343\n"
     ]
    }
   ],
   "source": [
    "# Expected Output\n",
    "# Do not change anything in this cell\n",
    "# Do not run this cell"
   ]
  },
  {
   "cell_type": "markdown",
   "metadata": {
    "id": "LTJYHsumfM0m"
   },
   "source": [
    "**Question-14:**\n",
    "\n",
    "Define the variables below. Print the types of each variable. What is the sum of your variables? What datatype is the sum?\n",
    "\n",
    "num=23\n",
    "\n",
    "textnum=\"57\"\n",
    "\n",
    "decimal=98.3"
   ]
  },
  {
   "cell_type": "markdown",
   "metadata": {
    "id": "msaLNvxifgZU"
   },
   "source": [
    "**Code**"
   ]
  },
  {
   "cell_type": "code",
   "execution_count": null,
   "metadata": {
    "id": "6s5JKuEgDwS9"
   },
   "outputs": [],
   "source": [
    "# Your Code"
   ]
  },
  {
   "cell_type": "code",
   "execution_count": null,
   "metadata": {
    "colab": {
     "base_uri": "https://localhost:8080/"
    },
    "id": "vWWBwIXWflEv",
    "outputId": "dcc6af10-8144-41d8-a2e0-79cfea2ba88d"
   },
   "outputs": [
    {
     "name": "stdout",
     "output_type": "stream",
     "text": [
      "<class 'int'>\n",
      "<class 'str'>\n",
      "<class 'float'>\n",
      "178.3\n",
      "<class 'float'>\n"
     ]
    }
   ],
   "source": [
    "# Expected Output\n",
    "# Do not change anything in this cell\n",
    "# Do not run this cell"
   ]
  },
  {
   "cell_type": "markdown",
   "metadata": {
    "id": "17OLcPtdfsGF"
   },
   "source": [
    "**Question-15:**\n",
    "\n",
    "Check the data type of the following variables:\n",
    "\n",
    "a = 4\n",
    "\n",
    "b = 'see'\n",
    "\n",
    "c = 80.5\n",
    "\n",
    "d = True"
   ]
  },
  {
   "cell_type": "markdown",
   "metadata": {
    "id": "imkNsvv4gg9l"
   },
   "source": [
    "**Code**"
   ]
  },
  {
   "cell_type": "code",
   "execution_count": null,
   "metadata": {
    "id": "3X1bj3JQDw7u"
   },
   "outputs": [],
   "source": [
    "# Your Code"
   ]
  },
  {
   "cell_type": "code",
   "execution_count": null,
   "metadata": {
    "colab": {
     "base_uri": "https://localhost:8080/"
    },
    "id": "TtdGPpUCgiC_",
    "outputId": "28775e52-01cb-499f-8042-4f1888055c6f"
   },
   "outputs": [
    {
     "name": "stdout",
     "output_type": "stream",
     "text": [
      "data type of a:\n",
      " <class 'int'>\n",
      "\n",
      "data type of b:\n",
      " <class 'str'>\n",
      "\n",
      "data type of c:\n",
      " <class 'float'>\n",
      "\n",
      "data type of d:\n",
      " <class 'bool'>\n"
     ]
    }
   ],
   "source": [
    "# Expected Output\n",
    "# Do not change anything in this cell\n",
    "# Do not run this cell"
   ]
  },
  {
   "cell_type": "markdown",
   "metadata": {
    "id": "kZugxda2hZqs"
   },
   "source": [
    "**Question-16:**\n",
    "\n",
    "Write a program to create a new string made of following string’s first, middle, and last character. (4)\n",
    "\n",
    "'James'"
   ]
  },
  {
   "cell_type": "markdown",
   "metadata": {
    "id": "Pjo3HgYSD04c"
   },
   "source": [
    "**Code**"
   ]
  },
  {
   "cell_type": "code",
   "execution_count": null,
   "metadata": {
    "id": "Oo5_AKa7D24H"
   },
   "outputs": [],
   "source": [
    "# Your Code"
   ]
  },
  {
   "cell_type": "code",
   "execution_count": null,
   "metadata": {
    "colab": {
     "base_uri": "https://localhost:8080/"
    },
    "id": "4VipkTkPiYjL",
    "outputId": "f808105a-afe5-43fa-d920-1e30f80202ff"
   },
   "outputs": [
    {
     "name": "stdout",
     "output_type": "stream",
     "text": [
      "Original String is James\n",
      "New String: Jms\n"
     ]
    }
   ],
   "source": [
    "# Expected Output\n",
    "# Do not change anything in this cell\n",
    "# Do not run this cell"
   ]
  },
  {
   "cell_type": "markdown",
   "metadata": {
    "id": "hOIi3qY4imro"
   },
   "source": [
    "**Question-17:**\n",
    "\n",
    "Reverse a given string: (4)\n",
    "\n",
    "'Awesome'"
   ]
  },
  {
   "cell_type": "markdown",
   "metadata": {
    "id": "7BN0jxJSkLgr"
   },
   "source": [
    "**Code**"
   ]
  },
  {
   "cell_type": "code",
   "execution_count": null,
   "metadata": {
    "id": "sCpVJ3CKD4HI"
   },
   "outputs": [],
   "source": [
    "# Your Code"
   ]
  },
  {
   "cell_type": "code",
   "execution_count": null,
   "metadata": {
    "colab": {
     "base_uri": "https://localhost:8080/"
    },
    "id": "FDVun595kMrO",
    "outputId": "ea08674d-1698-4cef-f6e9-2941672e0499"
   },
   "outputs": [
    {
     "name": "stdout",
     "output_type": "stream",
     "text": [
      "Original String is: Awesome\n",
      "Reversed String is: emosewA\n"
     ]
    }
   ],
   "source": [
    "# Expected Output\n",
    "# Do not change anything in this cell\n",
    "# Do not run this cell"
   ]
  },
  {
   "cell_type": "markdown",
   "metadata": {
    "id": "OIOTb8pIkpki"
   },
   "source": [
    "**Question-18:**\n",
    "\n",
    "Write a program to find the last position of a substring “Kaylie” in a given string. (4)\n",
    "\n",
    "'Kaylie is a data scientist who knows Python. Kaylie works at google.'"
   ]
  },
  {
   "cell_type": "markdown",
   "metadata": {
    "id": "LI8yW7axlPCl"
   },
   "source": [
    "**Code**"
   ]
  },
  {
   "cell_type": "code",
   "execution_count": null,
   "metadata": {
    "id": "ZdqkPjO2D5Qf"
   },
   "outputs": [],
   "source": [
    "# Your Code"
   ]
  },
  {
   "cell_type": "code",
   "execution_count": null,
   "metadata": {
    "colab": {
     "base_uri": "https://localhost:8080/"
    },
    "id": "YFD7N4EklQ8p",
    "outputId": "730798f8-fc97-4f5c-9840-8484f52e4f1d"
   },
   "outputs": [
    {
     "name": "stdout",
     "output_type": "stream",
     "text": [
      "Original String is: Kaylie is a data scientist who knows Python. Kaylie works at google.\n",
      "Last occurrence of Kaylie starts at index: 45\n"
     ]
    }
   ],
   "source": [
    "# Expected Output\n",
    "# Do not change anything in this cell\n",
    "# Do not run this cell"
   ]
  },
  {
   "cell_type": "markdown",
   "metadata": {
    "id": "nYZ7bwzelblQ"
   },
   "source": [
    "**Question-19:**\n",
    "\n",
    "Write a program to split a given string on hyphens and display each substring. (4)\n",
    "\n",
    "'Cassie-is-a-data-scientist'"
   ]
  },
  {
   "cell_type": "markdown",
   "metadata": {
    "id": "MhswG-ZZlvCk"
   },
   "source": [
    "**Code**"
   ]
  },
  {
   "cell_type": "code",
   "execution_count": null,
   "metadata": {
    "id": "A9toD7qbD58W"
   },
   "outputs": [],
   "source": [
    "# Your Code"
   ]
  },
  {
   "cell_type": "code",
   "execution_count": null,
   "metadata": {
    "colab": {
     "base_uri": "https://localhost:8080/"
    },
    "id": "1YeL2bS-lwce",
    "outputId": "48415cbb-b38c-4ded-c5e9-1540bd3ccd3d"
   },
   "outputs": [
    {
     "name": "stdout",
     "output_type": "stream",
     "text": [
      "Original String is: Cassie-is-a-data-scientist\n",
      "Displaying each substring\n",
      "Cassie\n",
      "is\n",
      "a\n",
      "data\n",
      "scientist\n"
     ]
    }
   ],
   "source": [
    "# Expected Output\n",
    "# Do not change anything in this cell\n",
    "# Do not run this cell"
   ]
  },
  {
   "cell_type": "markdown",
   "metadata": {
    "id": "3wXGuQ0Bl_GK"
   },
   "source": [
    "**Question-20:**\n",
    "\n",
    "Replace each special symbol with # in the following string: (4)\n",
    "\n",
    "'/*Dane is @developer & musician!!'"
   ]
  },
  {
   "cell_type": "markdown",
   "metadata": {
    "id": "2T9EvHoOmlUS"
   },
   "source": [
    "**Code**"
   ]
  },
  {
   "cell_type": "code",
   "execution_count": null,
   "metadata": {
    "id": "o8_R5D7XD6yq"
   },
   "outputs": [],
   "source": [
    "# Your Code"
   ]
  },
  {
   "cell_type": "code",
   "execution_count": null,
   "metadata": {
    "colab": {
     "base_uri": "https://localhost:8080/"
    },
    "id": "n5NL50almmvP",
    "outputId": "46f488c1-261b-48a0-ef95-8fe663f6095a"
   },
   "outputs": [
    {
     "name": "stdout",
     "output_type": "stream",
     "text": [
      "The original string is :  /*Dane is @developer & musician!!\n",
      "The strings after replacement :  ##Dane is #developer # musician##\n"
     ]
    }
   ],
   "source": [
    "# Expected Output\n",
    "# Do not change anything in this cell\n",
    "# Do not run this cell"
   ]
  },
  {
   "cell_type": "markdown",
   "metadata": {
    "id": "AXyetBuujqYx"
   },
   "source": [
    "**Question-21:**\n",
    "\n",
    "remove 5th character from the following string with atleast two methods:(5)\n",
    "\n",
    "'BeautifulMistakes'\n",
    "\n",
    "Note: indexing in python starts from 0"
   ]
  },
  {
   "cell_type": "markdown",
   "metadata": {
    "id": "cxJm-VrokCtO"
   },
   "source": [
    "**Code**"
   ]
  },
  {
   "cell_type": "code",
   "execution_count": null,
   "metadata": {
    "id": "5itEd2meD7l0"
   },
   "outputs": [],
   "source": [
    "# Your Code"
   ]
  },
  {
   "cell_type": "code",
   "execution_count": null,
   "metadata": {
    "colab": {
     "base_uri": "https://localhost:8080/"
    },
    "id": "QQp_h6MUkQps",
    "outputId": "cc41dfe0-ce13-41fa-a0e4-16342135426f"
   },
   "outputs": [
    {
     "name": "stdout",
     "output_type": "stream",
     "text": [
      "The original string is : BeautifulMistakes\n",
      "The string after removal of 5th character : BeauifulMistakes\n"
     ]
    }
   ],
   "source": [
    "# Expected Output\n",
    "# Do not change anything in this cell\n",
    "# Do not run this cell"
   ]
  },
  {
   "cell_type": "code",
   "execution_count": null,
   "metadata": {
    "colab": {
     "base_uri": "https://localhost:8080/"
    },
    "id": "taSdlxnskXB0",
    "outputId": "d10a4faf-4570-452f-f40e-c0797d8a3d8a"
   },
   "outputs": [
    {
     "name": "stdout",
     "output_type": "stream",
     "text": [
      "The original string is : BeautifulMistakes\n",
      "The string after removal of i'th character : BeauifulMistakes\n"
     ]
    }
   ],
   "source": [
    "# Expected Output\n",
    "# Do not change anything in this cell\n",
    "# Do not run this cell"
   ]
  },
  {
   "cell_type": "markdown",
   "metadata": {
    "id": "qJebCDe3nu6u"
   },
   "source": [
    "**Question-22:**\n",
    "\n",
    "Calculate the following expression:\n",
    "\n",
    "$(44*(2400-30^2))/60.0$"
   ]
  },
  {
   "cell_type": "markdown",
   "metadata": {
    "id": "AWf3CM_upd_0"
   },
   "source": [
    "**Code**"
   ]
  },
  {
   "cell_type": "code",
   "execution_count": null,
   "metadata": {
    "id": "AD-c2cSCD8h7"
   },
   "outputs": [],
   "source": [
    "# Your Code"
   ]
  },
  {
   "cell_type": "code",
   "execution_count": null,
   "metadata": {
    "colab": {
     "base_uri": "https://localhost:8080/"
    },
    "id": "65cdQxAmpfc7",
    "outputId": "bd2b59d5-e8ae-409a-941e-b153cf203ebc"
   },
   "outputs": [
    {
     "name": "stdout",
     "output_type": "stream",
     "text": [
      "result of the calculation is:\n",
      " 1100.0\n"
     ]
    }
   ],
   "source": [
    "# Expected Output\n",
    "# Do not change anything in this cell\n",
    "# Do not run this cell"
   ]
  },
  {
   "cell_type": "markdown",
   "metadata": {
    "id": "oCAx1O7fp2m5"
   },
   "source": [
    "**Question-23:**\n",
    "\n",
    "Evaluate the remainder and quotient when 70 is divided by 6."
   ]
  },
  {
   "cell_type": "markdown",
   "metadata": {
    "id": "ZKSTJwVHrBCC"
   },
   "source": [
    "**Code**"
   ]
  },
  {
   "cell_type": "code",
   "execution_count": null,
   "metadata": {
    "id": "fcbhn7IUD9Hg"
   },
   "outputs": [],
   "source": [
    "# Your Code"
   ]
  },
  {
   "cell_type": "code",
   "execution_count": null,
   "metadata": {
    "colab": {
     "base_uri": "https://localhost:8080/"
    },
    "id": "FDWnK2ikrCd_",
    "outputId": "767a8a0f-e266-4187-94dd-9fc1943f7c6a"
   },
   "outputs": [
    {
     "name": "stdout",
     "output_type": "stream",
     "text": [
      "remainder is:\n",
      " 4\n",
      "\n",
      "quotient is:\n",
      " 11\n"
     ]
    }
   ],
   "source": [
    "# Expected Output\n",
    "# Do not change anything in this cell\n",
    "# Do not run this cell"
   ]
  },
  {
   "cell_type": "markdown",
   "metadata": {
    "id": "W-dP5vHWrs1K"
   },
   "source": [
    "##**Part-3**\n",
    "\n",
    "Let's get try our hands on lists, tuples, sets and dictionaries."
   ]
  },
  {
   "cell_type": "markdown",
   "metadata": {
    "id": "yILS4B37r-O4"
   },
   "source": [
    "**Question-24:**\n",
    "\n",
    "find the sum and multiplication of all the items in the following list:\n",
    "\n",
    "[1,5,6,97,102,37,-89,90,109,221,-300]"
   ]
  },
  {
   "cell_type": "markdown",
   "metadata": {
    "id": "ikf_QSpRsFHG"
   },
   "source": [
    "**Code**"
   ]
  },
  {
   "cell_type": "code",
   "execution_count": null,
   "metadata": {
    "id": "rv86uTcGD-Fb"
   },
   "outputs": [],
   "source": [
    "# Your Code"
   ]
  },
  {
   "cell_type": "code",
   "execution_count": null,
   "metadata": {
    "colab": {
     "base_uri": "https://localhost:8080/"
    },
    "id": "gSRrakanr9bz",
    "outputId": "9a23b507-3eb6-489f-cd77-866049878415"
   },
   "outputs": [
    {
     "name": "stdout",
     "output_type": "stream",
     "text": [
      "sum of all the items in the list is:\n",
      " 279\n",
      "multiplication of all the items in the list is:\n",
      " 635722272588780000\n"
     ]
    }
   ],
   "source": [
    "# Expected Output\n",
    "# Do not change anything in this cell\n",
    "# Do not run this cell"
   ]
  },
  {
   "cell_type": "markdown",
   "metadata": {
    "id": "4sp-HdiYsK8b"
   },
   "source": [
    "**Question-25:**\n",
    "\n",
    "find the largest and the smallest number in the following list:\n",
    "\n",
    "[1,67,-378,38,198,23,-133,488,-238,234]"
   ]
  },
  {
   "cell_type": "markdown",
   "metadata": {
    "id": "-fZzhfISsK8b"
   },
   "source": [
    "**Code**"
   ]
  },
  {
   "cell_type": "code",
   "execution_count": null,
   "metadata": {
    "id": "iGf13bikD-zo"
   },
   "outputs": [],
   "source": [
    "# Your Code"
   ]
  },
  {
   "cell_type": "code",
   "execution_count": null,
   "metadata": {
    "colab": {
     "base_uri": "https://localhost:8080/"
    },
    "id": "ku4oJyzDsK8b",
    "outputId": "7b116357-485b-4bbd-a671-aa39be03e93c"
   },
   "outputs": [
    {
     "name": "stdout",
     "output_type": "stream",
     "text": [
      "largest number in the list:\n",
      " 488\n",
      "\n",
      "smallest number in the list:\n",
      " -378\n"
     ]
    }
   ],
   "source": [
    "# Expected Output\n",
    "# Do not change anything in this cell\n",
    "# Do not run this cell"
   ]
  },
  {
   "cell_type": "markdown",
   "metadata": {
    "id": "cbXSaMDjsLJA"
   },
   "source": [
    "**Question-26:**\n",
    "\n",
    "Write a Python program to check a list is empty or not. (1)"
   ]
  },
  {
   "cell_type": "markdown",
   "metadata": {
    "id": "1yVPgK4CsLJA"
   },
   "source": [
    "**Code**"
   ]
  },
  {
   "cell_type": "code",
   "execution_count": null,
   "metadata": {
    "id": "dJ4tOIoaD_7A"
   },
   "outputs": [],
   "source": [
    "# Your Code"
   ]
  },
  {
   "cell_type": "code",
   "execution_count": null,
   "metadata": {
    "colab": {
     "base_uri": "https://localhost:8080/"
    },
    "id": "4od8nRvzsLJA",
    "outputId": "b1f9fcc1-1b5a-4725-80dc-229d2e172776"
   },
   "outputs": [
    {
     "name": "stdout",
     "output_type": "stream",
     "text": [
      "List is empty\n"
     ]
    }
   ],
   "source": [
    "# Expected Output\n",
    "# Do not change anything in this cell\n",
    "# Do not run this cell"
   ]
  },
  {
   "cell_type": "markdown",
   "metadata": {
    "id": "HP-g2_stsLOv"
   },
   "source": [
    "**Question-27:**\n",
    "\n",
    "Write a Python program to clone or copy a list. (1)"
   ]
  },
  {
   "cell_type": "markdown",
   "metadata": {
    "id": "oiZCLv7gsLOw"
   },
   "source": [
    "**Code**"
   ]
  },
  {
   "cell_type": "code",
   "execution_count": null,
   "metadata": {
    "id": "WYz2KxOeEAlI"
   },
   "outputs": [],
   "source": [
    "# Your Code"
   ]
  },
  {
   "cell_type": "code",
   "execution_count": null,
   "metadata": {
    "colab": {
     "base_uri": "https://localhost:8080/"
    },
    "id": "MXvw6p_SsLOw",
    "outputId": "9f4ee8d2-42bf-4092-96f2-fb29a3c284fb"
   },
   "outputs": [
    {
     "name": "stdout",
     "output_type": "stream",
     "text": [
      "[10, 22, 44, 23, 4]\n",
      "[10, 22, 44, 23, 4]\n"
     ]
    }
   ],
   "source": [
    "# Expected Output\n",
    "# Do not change anything in this cell\n",
    "# Do not run this cell"
   ]
  },
  {
   "cell_type": "markdown",
   "metadata": {
    "id": "Wvx3lbGusLbd"
   },
   "source": [
    "**Question-28:**\n",
    "\n",
    "Write a Python program to print a specified list after removing the 0th, 4th and 5th elements. (1)\n",
    "\n",
    "sample list:\n",
    "['Red', 'Green', 'White', 'Black', 'Pink', 'Yellow']"
   ]
  },
  {
   "cell_type": "markdown",
   "metadata": {
    "id": "AA3NDgWnsLbe"
   },
   "source": [
    "**Code**"
   ]
  },
  {
   "cell_type": "code",
   "execution_count": null,
   "metadata": {
    "id": "DPGXdUTyEBX4"
   },
   "outputs": [],
   "source": [
    "# Your Code"
   ]
  },
  {
   "cell_type": "code",
   "execution_count": null,
   "metadata": {
    "colab": {
     "base_uri": "https://localhost:8080/"
    },
    "id": "R7Kt2tcosLbe",
    "outputId": "c0e2a774-d5e9-4329-e280-0b43fb26110a"
   },
   "outputs": [
    {
     "name": "stdout",
     "output_type": "stream",
     "text": [
      "['Green', 'White', 'Black']\n"
     ]
    }
   ],
   "source": [
    "# Expected Output\n",
    "# Do not change anything in this cell\n",
    "# Do not run this cell"
   ]
  },
  {
   "cell_type": "markdown",
   "metadata": {
    "id": "Uzav4023sLe-"
   },
   "source": [
    "**Question-29:**\n",
    "\n",
    "Write a Python program to convert a list of characters into a string.(1)\n",
    "\n",
    "sample list: ['a', 'b', 'c', 'd']\n"
   ]
  },
  {
   "cell_type": "markdown",
   "metadata": {
    "id": "SdOYiLl_sLe-"
   },
   "source": [
    "**Code**"
   ]
  },
  {
   "cell_type": "code",
   "execution_count": null,
   "metadata": {
    "id": "jDCRrqA2ECP3"
   },
   "outputs": [],
   "source": [
    "# Your Code"
   ]
  },
  {
   "cell_type": "code",
   "execution_count": null,
   "metadata": {
    "colab": {
     "base_uri": "https://localhost:8080/"
    },
    "id": "Ivirl4dKsLe_",
    "outputId": "b14268cd-0420-48b1-e819-7316332ee45c"
   },
   "outputs": [
    {
     "name": "stdout",
     "output_type": "stream",
     "text": [
      "abcd\n"
     ]
    }
   ],
   "source": [
    "# Expected Output\n",
    "# Do not change anything in this cell\n",
    "# Do not run this cell"
   ]
  },
  {
   "cell_type": "markdown",
   "metadata": {
    "id": "E0RIjSYVsLiM"
   },
   "source": [
    "**Question-30:**\n",
    "\n",
    "Write a Python program to find the index of an item in a specified list.(1)\n",
    "\n",
    "sample list: [10, 30, 4, -6]\n"
   ]
  },
  {
   "cell_type": "markdown",
   "metadata": {
    "id": "zGNyo_AhsLiM"
   },
   "source": [
    "**Code**"
   ]
  },
  {
   "cell_type": "code",
   "execution_count": null,
   "metadata": {
    "id": "F3jKJlLTEC_a"
   },
   "outputs": [],
   "source": [
    "# Your Code"
   ]
  },
  {
   "cell_type": "code",
   "execution_count": null,
   "metadata": {
    "colab": {
     "base_uri": "https://localhost:8080/"
    },
    "id": "fFJu_WcEsLiM",
    "outputId": "9a25348b-bd00-48f6-ad70-d8401f5f4dc5"
   },
   "outputs": [
    {
     "name": "stdout",
     "output_type": "stream",
     "text": [
      "1\n"
     ]
    }
   ],
   "source": [
    "# Expected Output\n",
    "# Do not change anything in this cell\n",
    "# Do not run this cell"
   ]
  },
  {
   "cell_type": "markdown",
   "metadata": {
    "id": "h4uNtahPsLlW"
   },
   "source": [
    "**Question-31:**\n",
    "\n",
    "Write a Python program to append a list to the second list.(1)\n",
    "\n",
    "sample lists:\n",
    "\n",
    "[1, 2, 3, 0]\n",
    "\n",
    "['Red', 'Green', 'Black']"
   ]
  },
  {
   "cell_type": "markdown",
   "metadata": {
    "id": "uclFxDCbsLlW"
   },
   "source": [
    "**Code**"
   ]
  },
  {
   "cell_type": "code",
   "execution_count": null,
   "metadata": {
    "id": "jzWMC7ImEDs2"
   },
   "outputs": [],
   "source": [
    "# Your Code"
   ]
  },
  {
   "cell_type": "code",
   "execution_count": null,
   "metadata": {
    "colab": {
     "base_uri": "https://localhost:8080/"
    },
    "id": "ehT2GBjksLlW",
    "outputId": "85927401-8d00-4a48-868d-4e00454d1130"
   },
   "outputs": [
    {
     "name": "stdout",
     "output_type": "stream",
     "text": [
      "[1, 2, 3, 0, 'Red', 'Green', 'Black']\n"
     ]
    }
   ],
   "source": [
    "# Expected Output\n",
    "# Do not change anything in this cell\n",
    "# Do not run this cell"
   ]
  },
  {
   "cell_type": "markdown",
   "metadata": {
    "id": "1Xx27BxpsLo-"
   },
   "source": [
    "**Question-32:**\n",
    "\n",
    "Write a Python program to select an item randomly from a list. (1)\n",
    "\n",
    "hint: random.choice()\n",
    "\n",
    "sample list: ['Red', 'Blue', 'Green', 'White', 'Black']"
   ]
  },
  {
   "cell_type": "markdown",
   "metadata": {
    "id": "DMuRvb7DsLo-"
   },
   "source": [
    "**Code**"
   ]
  },
  {
   "cell_type": "code",
   "execution_count": null,
   "metadata": {
    "id": "Bl0Wm1hwEEV5"
   },
   "outputs": [],
   "source": [
    "# Your Code"
   ]
  },
  {
   "cell_type": "code",
   "execution_count": null,
   "metadata": {
    "colab": {
     "base_uri": "https://localhost:8080/"
    },
    "id": "qgvwzWN3sLo-",
    "outputId": "6c6a3be8-5da4-4e8d-a35b-c027ecb6d6b1"
   },
   "outputs": [
    {
     "name": "stdout",
     "output_type": "stream",
     "text": [
      "Black\n"
     ]
    }
   ],
   "source": [
    "# Expected Output\n",
    "# Do not change anything in this cell\n",
    "# Do not run this cell"
   ]
  },
  {
   "cell_type": "markdown",
   "metadata": {
    "id": "4nyceLKmsLsE"
   },
   "source": [
    "**Question-33:**\n",
    "\n",
    "reverse the following tuple: (4)\n",
    "\n",
    "(10, 20, 30, 40, 50)\n"
   ]
  },
  {
   "cell_type": "markdown",
   "metadata": {
    "id": "0CG6QS1IsLsE"
   },
   "source": [
    "**Code**"
   ]
  },
  {
   "cell_type": "code",
   "execution_count": null,
   "metadata": {
    "id": "bGcXsfmJEFBG"
   },
   "outputs": [],
   "source": [
    "# Your Code"
   ]
  },
  {
   "cell_type": "code",
   "execution_count": null,
   "metadata": {
    "colab": {
     "base_uri": "https://localhost:8080/"
    },
    "id": "yPPvvs1usLsE",
    "outputId": "e8138017-70c6-4a72-a828-9173154d883e"
   },
   "outputs": [
    {
     "name": "stdout",
     "output_type": "stream",
     "text": [
      "(50, 40, 30, 20, 10)\n"
     ]
    }
   ],
   "source": [
    "# Expected Output\n",
    "# Do not change anything in this cell\n",
    "# Do not run this cell"
   ]
  },
  {
   "cell_type": "markdown",
   "metadata": {
    "id": "E04YY_opsLvf"
   },
   "source": [
    "**Question-34:**\n",
    "\n",
    "Unpack the following tuple into 4 variables.(4)\n",
    "\n",
    "(10, 20, 30, 40)"
   ]
  },
  {
   "cell_type": "markdown",
   "metadata": {
    "id": "wl96_t7PsLvf"
   },
   "source": [
    "**Code**"
   ]
  },
  {
   "cell_type": "code",
   "execution_count": null,
   "metadata": {
    "id": "a0tb7dIlEFrb"
   },
   "outputs": [],
   "source": [
    "# Your Code"
   ]
  },
  {
   "cell_type": "code",
   "execution_count": null,
   "metadata": {
    "colab": {
     "base_uri": "https://localhost:8080/"
    },
    "id": "yvwwt1ktsLvg",
    "outputId": "d1d975bd-142b-45aa-dbe9-b7a73072cca4"
   },
   "outputs": [
    {
     "name": "stdout",
     "output_type": "stream",
     "text": [
      "10\n",
      "20\n",
      "30\n",
      "40\n"
     ]
    }
   ],
   "source": [
    "# Expected Output\n",
    "# Do not change anything in this cell\n",
    "# Do not run this cell"
   ]
  },
  {
   "cell_type": "markdown",
   "metadata": {
    "id": "1m6YCyfIsLy0"
   },
   "source": [
    "**Question-35:**\n",
    "\n",
    "Counts the number of occurrences of item 50 from a tuple.(4)\n",
    "\n",
    "(50, 10, 60, 70, 50)"
   ]
  },
  {
   "cell_type": "markdown",
   "metadata": {
    "id": "-S5dgCktsLy0"
   },
   "source": [
    "**Code**"
   ]
  },
  {
   "cell_type": "code",
   "execution_count": null,
   "metadata": {
    "id": "lNTrKwHGEGmk"
   },
   "outputs": [],
   "source": [
    "# Your Code"
   ]
  },
  {
   "cell_type": "code",
   "execution_count": null,
   "metadata": {
    "colab": {
     "base_uri": "https://localhost:8080/"
    },
    "id": "d0rgqCqvsLy1",
    "outputId": "afbab98c-682d-4002-e415-a545fbd65c10"
   },
   "outputs": [
    {
     "name": "stdout",
     "output_type": "stream",
     "text": [
      "2\n"
     ]
    }
   ],
   "source": [
    "# Expected Output\n",
    "# Do not change anything in this cell\n",
    "# Do not run this cell"
   ]
  },
  {
   "cell_type": "markdown",
   "metadata": {
    "id": "9ssTi9f5sL19"
   },
   "source": [
    "**Question-36:**\n",
    "\n",
    "find the size of the following tuples: (5)\n",
    "\n",
    "(\"A\", 1, \"B\", 2, \"C\", 3)\n",
    "\n",
    "(\"Geek1\", \"Raju\", \"Geek2\", \"Nikhil\", \"Geek3\", \"Deepanshu\")\n",
    "\n",
    "((1, \"Lion\"), ( 2, \"Tiger\"), (3, \"Fox\"), (4, \"Wolf\"))"
   ]
  },
  {
   "cell_type": "markdown",
   "metadata": {
    "id": "Ip6RbdM1sL19"
   },
   "source": [
    "**Code**"
   ]
  },
  {
   "cell_type": "code",
   "execution_count": null,
   "metadata": {
    "id": "9RzobXH7EHZB"
   },
   "outputs": [],
   "source": [
    "# Your Code"
   ]
  },
  {
   "cell_type": "code",
   "execution_count": null,
   "metadata": {
    "colab": {
     "base_uri": "https://localhost:8080/"
    },
    "id": "jPnJCdxYsL19",
    "outputId": "bf494a9e-d4cd-469d-97ec-76110c6bc32d"
   },
   "outputs": [
    {
     "name": "stdout",
     "output_type": "stream",
     "text": [
      "Size of Tuple1: 104bytes\n",
      "Size of Tuple2: 104bytes\n",
      "Size of Tuple3: 88bytes\n"
     ]
    }
   ],
   "source": [
    "# Expected Output\n",
    "# Do not change anything in this cell\n",
    "# Do not run this cell"
   ]
  },
  {
   "cell_type": "markdown",
   "metadata": {
    "id": "dq3fo5X6sL59"
   },
   "source": [
    "**Question-37:**\n",
    "\n",
    "find the maximum 2 and the minimum 2 elements in the following tuple: (5)\n",
    "\n",
    "(5, 20, 3, 7, 6, 8)"
   ]
  },
  {
   "cell_type": "markdown",
   "metadata": {
    "id": "b0J5UigdsL5-"
   },
   "source": [
    "**Code**"
   ]
  },
  {
   "cell_type": "code",
   "execution_count": null,
   "metadata": {
    "id": "MfedbngWEIQt"
   },
   "outputs": [],
   "source": [
    "# Your Code"
   ]
  },
  {
   "cell_type": "code",
   "execution_count": null,
   "metadata": {
    "colab": {
     "base_uri": "https://localhost:8080/"
    },
    "id": "YOG03BrJsL5-",
    "outputId": "1619bdcf-ff7b-454e-ed49-d4dde24d080b"
   },
   "outputs": [
    {
     "name": "stdout",
     "output_type": "stream",
     "text": [
      "The original tuple is : (5, 20, 3, 7, 6, 8)\n",
      "The extracted values : (3, 5, 8, 20)\n"
     ]
    }
   ],
   "source": [
    "# Expected Output\n",
    "# Do not change anything in this cell\n",
    "# Do not run this cell"
   ]
  },
  {
   "cell_type": "markdown",
   "metadata": {
    "id": "dK6fgm7dsL9m"
   },
   "source": [
    "**Question-38:**\n",
    "\n",
    "create a list of tuples from given list having number and its cube in each tuple. (5)\n",
    "\n",
    "sample list: [1, 2, 5, 6]"
   ]
  },
  {
   "cell_type": "markdown",
   "metadata": {
    "id": "b2HQ_GlZsL9n"
   },
   "source": [
    "**Code**"
   ]
  },
  {
   "cell_type": "code",
   "execution_count": null,
   "metadata": {
    "id": "p9Qul7U8EJDN"
   },
   "outputs": [],
   "source": [
    "# Your Code"
   ]
  },
  {
   "cell_type": "code",
   "execution_count": null,
   "metadata": {
    "colab": {
     "base_uri": "https://localhost:8080/"
    },
    "id": "RDp5oaF5sL9n",
    "outputId": "7885f16d-1915-4917-b864-262564510756"
   },
   "outputs": [
    {
     "name": "stdout",
     "output_type": "stream",
     "text": [
      "[(1, 1), (2, 8), (5, 125), (6, 216)]\n"
     ]
    }
   ],
   "source": [
    "# Expected Output\n",
    "# Do not change anything in this cell\n",
    "# Do not run this cell"
   ]
  },
  {
   "cell_type": "markdown",
   "metadata": {
    "id": "DmMnYUEGsMBW"
   },
   "source": [
    "**Question-39:**\n",
    "\n",
    "Test if tuple is distinct: (5)\n",
    "\n",
    "sample tuple: (1, 4, 5, 6)"
   ]
  },
  {
   "cell_type": "markdown",
   "metadata": {
    "id": "XJJuiEnnsMBW"
   },
   "source": [
    "**Code**"
   ]
  },
  {
   "cell_type": "code",
   "execution_count": null,
   "metadata": {
    "id": "sISdyBFCEJ2D"
   },
   "outputs": [],
   "source": [
    "# Your Code"
   ]
  },
  {
   "cell_type": "code",
   "execution_count": null,
   "metadata": {
    "colab": {
     "base_uri": "https://localhost:8080/"
    },
    "id": "LQ_OVn6fsMBW",
    "outputId": "1c4df7b2-2758-4aaf-9159-d4eac1751ce7"
   },
   "outputs": [
    {
     "name": "stdout",
     "output_type": "stream",
     "text": [
      "The original tuple is : (1, 4, 5, 6)\n",
      "Is tuple distinct ? : True\n"
     ]
    }
   ],
   "source": [
    "# Expected Output\n",
    "# Do not change anything in this cell\n",
    "# Do not run this cell"
   ]
  },
  {
   "cell_type": "markdown",
   "metadata": {
    "id": "ci-ohnvPsME9"
   },
   "source": [
    "**Question-40:**\n",
    "\n",
    "Given a Python list, Write a program to add all its elements into a given set. (4)\n",
    "\n",
    "sample_set = {\"Yellow\", \"Orange\", \"Black\"}\n",
    "\n",
    "sample_list = [\"Blue\", \"Green\", \"Red\"]"
   ]
  },
  {
   "cell_type": "markdown",
   "metadata": {
    "id": "t7hzwQJPsME9"
   },
   "source": [
    "**Code**"
   ]
  },
  {
   "cell_type": "code",
   "execution_count": null,
   "metadata": {
    "id": "PGT_hRaJEKom"
   },
   "outputs": [],
   "source": [
    "# Your Code"
   ]
  },
  {
   "cell_type": "code",
   "execution_count": null,
   "metadata": {
    "colab": {
     "base_uri": "https://localhost:8080/"
    },
    "id": "Qrxb9owasME9",
    "outputId": "b994e828-fc22-4b65-9e08-8e4fd77f7293"
   },
   "outputs": [
    {
     "name": "stdout",
     "output_type": "stream",
     "text": [
      "{'Yellow', 'Red', 'Black', 'Blue', 'Green', 'Orange'}\n"
     ]
    }
   ],
   "source": [
    "# Expected Output\n",
    "# Do not change anything in this cell\n",
    "# Do not run this cell"
   ]
  },
  {
   "cell_type": "markdown",
   "metadata": {
    "id": "wrJkqkBLsMIL"
   },
   "source": [
    "**Question-41:**\n",
    "\n",
    "Return a new set of identical items from two sets. (4)\n",
    "\n",
    "set1 = {10, 20, 30, 40, 50}\n",
    "\n",
    "set2 = {30, 40, 50, 60, 70}"
   ]
  },
  {
   "cell_type": "markdown",
   "metadata": {
    "id": "FzYUq3iFsMIL"
   },
   "source": [
    "**Code**"
   ]
  },
  {
   "cell_type": "code",
   "execution_count": null,
   "metadata": {
    "id": "RKGmgswnELd0"
   },
   "outputs": [],
   "source": [
    "# Your Code"
   ]
  },
  {
   "cell_type": "code",
   "execution_count": null,
   "metadata": {
    "colab": {
     "base_uri": "https://localhost:8080/"
    },
    "id": "rdQqA5-IsMIM",
    "outputId": "8e0d00bf-3cc4-4af9-e15b-750ca58b8a6a"
   },
   "outputs": [
    {
     "name": "stdout",
     "output_type": "stream",
     "text": [
      "{40, 50, 30}\n"
     ]
    }
   ],
   "source": [
    "# Expected Output\n",
    "# Do not change anything in this cell\n",
    "# Do not run this cell"
   ]
  },
  {
   "cell_type": "markdown",
   "metadata": {
    "id": "1ilOFer1sMLc"
   },
   "source": [
    "**Question-42:**\n",
    "\n",
    "Write a Python program to return a new set with unique items from both sets by removing duplicates.(4)\n",
    "\n",
    "set1 = {10, 20, 30, 40, 50}\n",
    "\n",
    "set2 = {30, 40, 50, 60, 70}"
   ]
  },
  {
   "cell_type": "markdown",
   "metadata": {
    "id": "_vvgj-Y4sMLc"
   },
   "source": [
    "**Code**"
   ]
  },
  {
   "cell_type": "code",
   "execution_count": null,
   "metadata": {
    "id": "r_532RyhEMOQ"
   },
   "outputs": [],
   "source": [
    "# Your Code"
   ]
  },
  {
   "cell_type": "code",
   "execution_count": null,
   "metadata": {
    "colab": {
     "base_uri": "https://localhost:8080/"
    },
    "id": "hE6viwdzsMLc",
    "outputId": "175900e2-08a5-4fb4-e89f-91e2112b0b15"
   },
   "outputs": [
    {
     "name": "stdout",
     "output_type": "stream",
     "text": [
      "{70, 40, 10, 50, 20, 60, 30}\n"
     ]
    }
   ],
   "source": [
    "# Expected Output\n",
    "# Do not change anything in this cell\n",
    "# Do not run this cell"
   ]
  },
  {
   "cell_type": "markdown",
   "metadata": {
    "id": "Ok5qef2ZsMO-"
   },
   "source": [
    "**Question-43:**\n",
    "\n",
    "Given two Python sets, write a Python program to update the first set with items that exist only in the first set and not in the second set. (4)\n",
    "\n",
    "set1 = {10, 20, 30}\n",
    "\n",
    "set2 = {20, 40, 50}"
   ]
  },
  {
   "cell_type": "markdown",
   "metadata": {
    "id": "Uc4qjK-asMO-"
   },
   "source": [
    "**Code**"
   ]
  },
  {
   "cell_type": "code",
   "execution_count": null,
   "metadata": {
    "id": "_pA8zESjEM8z"
   },
   "outputs": [],
   "source": [
    "# Your Code"
   ]
  },
  {
   "cell_type": "code",
   "execution_count": null,
   "metadata": {
    "colab": {
     "base_uri": "https://localhost:8080/"
    },
    "id": "qJSI50a7sMO-",
    "outputId": "23edd950-bd87-4745-9092-a282f9a36adb"
   },
   "outputs": [
    {
     "name": "stdout",
     "output_type": "stream",
     "text": [
      "{10, 30}\n"
     ]
    }
   ],
   "source": [
    "# Expected Output\n",
    "# Do not change anything in this cell\n",
    "# Do not run this cell"
   ]
  },
  {
   "cell_type": "markdown",
   "metadata": {
    "id": "6MYJZ72ZsMSQ"
   },
   "source": [
    "**Question-44:**\n",
    "\n",
    "Return a set of elements present in Set A or B, but not both. (4)\n",
    "\n",
    "set1 = {10, 20, 30, 40, 50}\n",
    "\n",
    "set2 = {30, 40, 50, 60, 70}"
   ]
  },
  {
   "cell_type": "markdown",
   "metadata": {
    "id": "YfU5xkC1sMSQ"
   },
   "source": [
    "**Code**"
   ]
  },
  {
   "cell_type": "code",
   "execution_count": null,
   "metadata": {
    "id": "WwuzkGyrENpm"
   },
   "outputs": [],
   "source": [
    "# Your Code"
   ]
  },
  {
   "cell_type": "code",
   "execution_count": null,
   "metadata": {
    "colab": {
     "base_uri": "https://localhost:8080/"
    },
    "id": "696WvyEpsMSR",
    "outputId": "690e1265-effc-438a-bbb6-9858d9cfd2b6"
   },
   "outputs": [
    {
     "name": "stdout",
     "output_type": "stream",
     "text": [
      "{20, 70, 10, 60}\n"
     ]
    }
   ],
   "source": [
    "# Expected Output\n",
    "# Do not change anything in this cell\n",
    "# Do not run this cell"
   ]
  },
  {
   "cell_type": "markdown",
   "metadata": {
    "id": "TFoL4OEzsMVf"
   },
   "source": [
    "**Question-45:**\n",
    "\n",
    "Below are the two lists. Write a Python program to convert them into a dictionary in a way that item from list1 is the key and item from list2 is the value. (4)\n",
    "\n",
    "keys = ['Ten', 'Twenty', 'Thirty']\n",
    "\n",
    "values = [10, 20, 30]"
   ]
  },
  {
   "cell_type": "markdown",
   "metadata": {
    "id": "PP_aBU_asMVf"
   },
   "source": [
    "**Code**"
   ]
  },
  {
   "cell_type": "code",
   "execution_count": null,
   "metadata": {
    "id": "6VCk0RqSEOcZ"
   },
   "outputs": [],
   "source": [
    "# Your Code"
   ]
  },
  {
   "cell_type": "code",
   "execution_count": null,
   "metadata": {
    "colab": {
     "base_uri": "https://localhost:8080/"
    },
    "id": "JLOfUYmRsMVf",
    "outputId": "f4c24fcc-2328-4714-a118-bfac74de13eb"
   },
   "outputs": [
    {
     "name": "stdout",
     "output_type": "stream",
     "text": [
      "{'Ten': 10, 'Twenty': 20, 'Thirty': 30}\n"
     ]
    }
   ],
   "source": [
    "# Expected Output\n",
    "# Do not change anything in this cell\n",
    "# Do not run this cell"
   ]
  },
  {
   "cell_type": "markdown",
   "metadata": {
    "id": "qH5KUfkXsMYo"
   },
   "source": [
    "**Question-46:**\n",
    "\n",
    "Merge two Python dictionaries into one. (4)\n",
    "\n",
    "dict1 = {'Ten': 10, 'Twenty': 20, 'Thirty': 30}\n",
    "\n",
    "dict2 = {'Thirty': 30, 'Fourty': 40, 'Fifty': 50}"
   ]
  },
  {
   "cell_type": "markdown",
   "metadata": {
    "id": "8CDRz4OIsMYp"
   },
   "source": [
    "**Code**"
   ]
  },
  {
   "cell_type": "code",
   "execution_count": null,
   "metadata": {
    "id": "ig0m2unEEPLk"
   },
   "outputs": [],
   "source": [
    "# Your Code"
   ]
  },
  {
   "cell_type": "code",
   "execution_count": null,
   "metadata": {
    "colab": {
     "base_uri": "https://localhost:8080/"
    },
    "id": "XxpGUN3BsMYp",
    "outputId": "790e768f-0097-4e82-c8eb-c1c56b4f7dc4"
   },
   "outputs": [
    {
     "name": "stdout",
     "output_type": "stream",
     "text": [
      "{'Ten': 10, 'Twenty': 20, 'Thirty': 30, 'Fourty': 40, 'Fifty': 50}\n"
     ]
    }
   ],
   "source": [
    "# Expected Output\n",
    "# Do not change anything in this cell\n",
    "# Do not run this cell"
   ]
  },
  {
   "cell_type": "markdown",
   "metadata": {
    "id": "FNdziFsWsMb9"
   },
   "source": [
    "**Question-47:**\n",
    "\n",
    "Delete a list of keys from a dictionary. (4)\n",
    "\n",
    "sample_dict = {\n",
    "    \"name\": \"Kelly\",\n",
    "    \"age\": 25,\n",
    "    \"salary\": 8000,\n",
    "    \"city\": \"New york\"\n",
    "}\n",
    "\n",
    "Keys to remove\n",
    "keys = [\"name\", \"salary\"]"
   ]
  },
  {
   "cell_type": "markdown",
   "metadata": {
    "id": "c8juXzkEsMb-"
   },
   "source": [
    "**Code**"
   ]
  },
  {
   "cell_type": "code",
   "execution_count": null,
   "metadata": {
    "id": "xtypWqFaEP4O"
   },
   "outputs": [],
   "source": [
    "# Your Code"
   ]
  },
  {
   "cell_type": "code",
   "execution_count": null,
   "metadata": {
    "colab": {
     "base_uri": "https://localhost:8080/"
    },
    "id": "YR_cR8vnsMb-",
    "outputId": "64150ca9-49db-4a7d-f302-c59d6dbbbf53"
   },
   "outputs": [
    {
     "name": "stdout",
     "output_type": "stream",
     "text": [
      "{'age': 25, 'city': 'New york'}\n"
     ]
    }
   ],
   "source": [
    "# Expected Output\n",
    "# Do not change anything in this cell\n",
    "# Do not run this cell"
   ]
  },
  {
   "cell_type": "markdown",
   "metadata": {
    "id": "lH1mUpq0stBB"
   },
   "source": [
    "**Question-48:**\n",
    "\n",
    "Write a program to rename a key 'city' to a 'location' in the following dictionary. (4)\n",
    "\n",
    "sample_dict = {\n",
    "  \"name\": \"Kelly\",\n",
    "  \"age\":25,\n",
    "  \"salary\": 8000,\n",
    "  \"city\": \"New york\"\n",
    "}"
   ]
  },
  {
   "cell_type": "markdown",
   "metadata": {
    "id": "JSxqMiNjstBH"
   },
   "source": [
    "**Code**"
   ]
  },
  {
   "cell_type": "code",
   "execution_count": null,
   "metadata": {
    "id": "BMzS7f8_EQsq"
   },
   "outputs": [],
   "source": [
    "# Your Code"
   ]
  },
  {
   "cell_type": "code",
   "execution_count": null,
   "metadata": {
    "colab": {
     "base_uri": "https://localhost:8080/"
    },
    "id": "SpAn5tTvstBH",
    "outputId": "824eea09-4277-445a-9bce-20d1ac748678"
   },
   "outputs": [
    {
     "name": "stdout",
     "output_type": "stream",
     "text": [
      "{'name': 'Kelly', 'age': 25, 'salary': 8000, 'location': 'New york'}\n"
     ]
    }
   ],
   "source": [
    "# Expected Output\n",
    "# Do not change anything in this cell\n",
    "# Do not run this cell"
   ]
  },
  {
   "cell_type": "markdown",
   "metadata": {
    "id": "0CTFdBkpstKV"
   },
   "source": [
    "**Question-49:**\n",
    "\n",
    "sort the following dictionary by key: (5)\n",
    "\n",
    "dict = {'ravi':'10','rajnish':'9','sanjeev':'15','yash':'2','suraj':'32'}"
   ]
  },
  {
   "cell_type": "markdown",
   "metadata": {
    "id": "MQgHypmustKW"
   },
   "source": [
    "**Code**"
   ]
  },
  {
   "cell_type": "code",
   "execution_count": null,
   "metadata": {
    "id": "quJJEXFJERdC"
   },
   "outputs": [],
   "source": [
    "# Your Code"
   ]
  },
  {
   "cell_type": "code",
   "execution_count": null,
   "metadata": {
    "colab": {
     "base_uri": "https://localhost:8080/"
    },
    "id": "Ail8TndFstKW",
    "outputId": "cc4c71aa-ac1d-492e-84f3-95ce1e1f45d2"
   },
   "outputs": [
    {
     "name": "stdout",
     "output_type": "stream",
     "text": [
      "OrderedDict([('rajnish', '9'), ('ravi', '10'), ('sanjeev', '15'), ('suraj', '32'), ('yash', '2')])\n"
     ]
    }
   ],
   "source": [
    "# Expected Output\n",
    "# Do not change anything in this cell\n",
    "# Do not run this cell"
   ]
  },
  {
   "cell_type": "markdown",
   "metadata": {
    "id": "8y13klbsstbo"
   },
   "source": [
    "**Question-50:**\n",
    "\n",
    "Given a dictionary with nested dictionaries as values, extract all the values with of particular key. (5)\n",
    "\n",
    "sample_dict = {'Gfg' : {\"a\" : 7, \"b\" : 9, \"c\" : 12},\n",
    "             'is' : {\"a\" : 15, \"b\" : 19, \"c\" : 20}, \n",
    "             'best' :{\"a\" : 5, \"b\" : 10, \"c\" : 2}}\n",
    "\n",
    "key = 'c'"
   ]
  },
  {
   "cell_type": "markdown",
   "metadata": {
    "id": "eilBzzk_stbp"
   },
   "source": [
    "**Code**"
   ]
  },
  {
   "cell_type": "code",
   "execution_count": null,
   "metadata": {
    "id": "yWZRJIvrESS1"
   },
   "outputs": [],
   "source": [
    "# Your Code"
   ]
  },
  {
   "cell_type": "code",
   "execution_count": null,
   "metadata": {
    "colab": {
     "base_uri": "https://localhost:8080/"
    },
    "id": "UN4QBK0_stbp",
    "outputId": "1ccaa8ba-29cb-4693-a92f-1f19b94d868b"
   },
   "outputs": [
    {
     "name": "stdout",
     "output_type": "stream",
     "text": [
      "The original dictionary is : {'Gfg': {'a': 7, 'b': 9, 'c': 12}, 'is': {'a': 15, 'b': 19, 'c': 20}, 'best': {'a': 5, 'b': 10, 'c': 2}}\n",
      "The extracted values : [12, 20, 2]\n"
     ]
    }
   ],
   "source": [
    "# Expected Output\n",
    "# Do not change anything in this cell\n",
    "# Do not run this cell"
   ]
  }
 ],
 "metadata": {
  "colab": {
   "collapsed_sections": [],
   "include_colab_link": true,
   "name": "DATA601_Python_Exercises1.ipynb",
   "provenance": []
  },
  "kernelspec": {
   "display_name": "Python 3 (ipykernel)",
   "language": "python",
   "name": "python3"
  },
  "language_info": {
   "codemirror_mode": {
    "name": "ipython",
    "version": 3
   },
   "file_extension": ".py",
   "mimetype": "text/x-python",
   "name": "python",
   "nbconvert_exporter": "python",
   "pygments_lexer": "ipython3",
   "version": "3.9.13"
  }
 },
 "nbformat": 4,
 "nbformat_minor": 1
}
