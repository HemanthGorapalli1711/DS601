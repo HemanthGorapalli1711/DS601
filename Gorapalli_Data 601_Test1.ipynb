{
  "cells": [
    {
      "cell_type": "code",
      "execution_count": null,
      "id": "fcd9eb6c",
      "metadata": {
        "id": "fcd9eb6c",
        "colab": {
          "base_uri": "https://localhost:8080/"
        },
        "outputId": "e7d1c594-70a2-49af-855a-e48f22cd8895"
      },
      "outputs": [
        {
          "output_type": "stream",
          "name": "stdout",
          "text": [
            "['Hi', 'there', 'Sam!']\n"
          ]
        }
      ],
      "source": [
        "# Split this string\n",
        "s = \"Hi there Sam!\"\n",
        "\n",
        "#Into a list\n",
        "name = s.split() # the split fucntion converts the string into a list\n",
        "print(name)\n"
      ]
    },
    {
      "cell_type": "code",
      "execution_count": null,
      "id": "84b03bc0",
      "metadata": {
        "id": "84b03bc0",
        "colab": {
          "base_uri": "https://localhost:8080/"
        },
        "outputId": "79683ec5-0c7a-43db-903e-009bd346080d"
      },
      "outputs": [
        {
          "output_type": "stream",
          "name": "stdout",
          "text": [
            "The diameter of Earth is 12742 kilometers.\n"
          ]
        }
      ],
      "source": [
        "# Given the variables:\n",
        "\n",
        "planet = \"Earth\"\n",
        "diameter = 12742\n",
        "\n",
        "# Use .format() to print the following string:\n",
        "\n",
        "print('The diameter of {} is {} kilometers.'.format(planet,diameter))\n",
        "\n",
        "# The diameter of Earth is 12742 kilometers."
      ]
    },
    {
      "cell_type": "code",
      "execution_count": null,
      "id": "4c8f9bd7",
      "metadata": {
        "id": "4c8f9bd7",
        "colab": {
          "base_uri": "https://localhost:8080/"
        },
        "outputId": "4343c236-9f7b-4bd7-db2e-dd99cc4bfb54"
      },
      "outputs": [
        {
          "output_type": "stream",
          "name": "stdout",
          "text": [
            "10077696\n"
          ]
        }
      ],
      "source": [
        "# What is 6 to the power of 9\n",
        "a = 6**9\n",
        "print(a)"
      ]
    },
    {
      "cell_type": "code",
      "execution_count": null,
      "id": "4f3bf138",
      "metadata": {
        "id": "4f3bf138",
        "colab": {
          "base_uri": "https://localhost:8080/"
        },
        "outputId": "e9e37f5f-61d6-4d54-9c68-5b3c752a9dee"
      },
      "outputs": [
        {
          "output_type": "stream",
          "name": "stdout",
          "text": [
            "['zebra', 'fox', 'lion', 'camel']\n"
          ]
        }
      ],
      "source": [
        "# Create a list of 5 different names\n",
        "a = ['zebra','fox','lion','goat','camel']\n",
        "# Remove the 3rd name on the list\n",
        "del a[3]\n",
        "print(a)"
      ]
    },
    {
      "cell_type": "code",
      "execution_count": null,
      "id": "28c936e9",
      "metadata": {
        "id": "28c936e9",
        "colab": {
          "base_uri": "https://localhost:8080/"
        },
        "outputId": "76616c41-0ffe-4c9a-fc13-fa2e1bbb34fa"
      },
      "outputs": [
        {
          "output_type": "stream",
          "name": "stdout",
          "text": [
            "['camel', 'cheetah', 'dinosaur', 'fox', 'goat', 'lion', 'zebra']\n"
          ]
        }
      ],
      "source": [
        "# Add 2 new names to your list\n",
        "a = ['zebra','fox','lion','goat','camel']\n",
        "a.extend(['cheetah','dinosaur'])\n",
        "# Sort your list of names alphabetacly\n",
        "a.sort()\n",
        "print(a)"
      ]
    },
    {
      "cell_type": "code",
      "execution_count": null,
      "id": "c5947031",
      "metadata": {
        "id": "c5947031",
        "colab": {
          "base_uri": "https://localhost:8080/"
        },
        "outputId": "e9bfcdab-929b-4302-e853-d04acaf93faf"
      },
      "outputs": [
        {
          "output_type": "stream",
          "name": "stdout",
          "text": [
            "umbc.edu\n"
          ]
        }
      ],
      "source": [
        "# Create a function that grabs the email website domain from a string in the form\n",
        "\n",
        "#umbcstudent@umbc.edu\n",
        "\n",
        "# So for example, passing \"user@domain.com\" would return: domain.com\n",
        "def sub(a):\n",
        "    result = \"\" # empty string to store another value\n",
        "    for i in a:\n",
        "        if i == \"@\": # if @ is present coming out of loop to generate the domains\n",
        "            break\n",
        "        else:\n",
        "            result = result + i # adding every character and storing it in another string\n",
        "    return result\n",
        "\n",
        "email = \"umbcstudent@umbc.edu\" # input string\n",
        "a = reversed(email) # reversing the email to start from the last\n",
        "result = sub(a)[::-1] # if we dont do reverse we will get the output in reverse\n",
        "print(result)\n",
        "\n"
      ]
    },
    {
      "cell_type": "code",
      "source": [
        "# Create a data frame with random numbers (1-20) with 4 columns and 4 rows\n",
        "import numpy as np\n",
        "import pandas as pd\n",
        "df = pd.DataFrame(np.random.randint(1,20,size=(4, 4)),columns=list('ABCD'))\n",
        "print(df)\n"
      ],
      "metadata": {
        "id": "7nhPEqm--pgI",
        "colab": {
          "base_uri": "https://localhost:8080/"
        },
        "outputId": "4a429dad-aca5-49e9-d052-122a59d384ed"
      },
      "id": "7nhPEqm--pgI",
      "execution_count": null,
      "outputs": [
        {
          "output_type": "stream",
          "name": "stdout",
          "text": [
            "    A   B   C  D\n",
            "0   2   6  19  1\n",
            "1  11   6   1  6\n",
            "2   3  19   5  5\n",
            "3  16  10  16  2\n"
          ]
        }
      ]
    },
    {
      "cell_type": "code",
      "source": [
        "# Add an additional column and add two values called Test 1 and Test 2\n",
        "df['E'] = ['Test 1', 'Test 2','NaN','NaN']\n",
        "print(df)"
      ],
      "metadata": {
        "id": "VdLk77N8-9PO",
        "colab": {
          "base_uri": "https://localhost:8080/"
        },
        "outputId": "ee6fd1fd-6d80-4a16-8936-373cb83b7fe4"
      },
      "id": "VdLk77N8-9PO",
      "execution_count": null,
      "outputs": [
        {
          "output_type": "stream",
          "name": "stdout",
          "text": [
            "    A   B   C  D       E\n",
            "0   2   6  19  1  Test 1\n",
            "1  11   6   1  6  Test 2\n",
            "2   3  19   5  5     NaN\n",
            "3  16  10  16  2     NaN\n"
          ]
        }
      ]
    },
    {
      "cell_type": "code",
      "source": [
        "# Create an index using the last column you created\n",
        "df.set_index('E', inplace=True)\n",
        "print(df)"
      ],
      "metadata": {
        "id": "fIQnpdXw_Y0G",
        "colab": {
          "base_uri": "https://localhost:8080/"
        },
        "outputId": "16008949-4943-47c5-aeea-f8fa5d1e5840"
      },
      "id": "fIQnpdXw_Y0G",
      "execution_count": null,
      "outputs": [
        {
          "output_type": "stream",
          "name": "stdout",
          "text": [
            "         A   B   C  D\n",
            "E                    \n",
            "Test 1   2   6  19  1\n",
            "Test 2  11   6   1  6\n",
            "NaN      3  19   5  5\n",
            "NaN     16  10  16  2\n"
          ]
        }
      ]
    },
    {
      "cell_type": "code",
      "source": [
        "# Create an input that provides the basic statistics of your dataframe.\n",
        "df.describe()"
      ],
      "metadata": {
        "id": "D5UkFh9q_mLR",
        "colab": {
          "base_uri": "https://localhost:8080/",
          "height": 300
        },
        "outputId": "b3514be5-7097-4e9a-87c4-a29bc0586ac9"
      },
      "id": "D5UkFh9q_mLR",
      "execution_count": null,
      "outputs": [
        {
          "output_type": "execute_result",
          "data": {
            "text/plain": [
              "               A          B          C         D\n",
              "count   4.000000   4.000000   4.000000  4.000000\n",
              "mean    8.000000  10.250000  10.250000  3.500000\n",
              "std     6.683313   6.130525   8.616844  2.380476\n",
              "min     2.000000   6.000000   1.000000  1.000000\n",
              "25%     2.750000   6.000000   4.000000  1.750000\n",
              "50%     7.000000   8.000000  10.500000  3.500000\n",
              "75%    12.250000  12.250000  16.750000  5.250000\n",
              "max    16.000000  19.000000  19.000000  6.000000"
            ],
            "text/html": [
              "\n",
              "  <div id=\"df-84d71797-c931-4054-9806-a6806898295d\" class=\"colab-df-container\">\n",
              "    <div>\n",
              "<style scoped>\n",
              "    .dataframe tbody tr th:only-of-type {\n",
              "        vertical-align: middle;\n",
              "    }\n",
              "\n",
              "    .dataframe tbody tr th {\n",
              "        vertical-align: top;\n",
              "    }\n",
              "\n",
              "    .dataframe thead th {\n",
              "        text-align: right;\n",
              "    }\n",
              "</style>\n",
              "<table border=\"1\" class=\"dataframe\">\n",
              "  <thead>\n",
              "    <tr style=\"text-align: right;\">\n",
              "      <th></th>\n",
              "      <th>A</th>\n",
              "      <th>B</th>\n",
              "      <th>C</th>\n",
              "      <th>D</th>\n",
              "    </tr>\n",
              "  </thead>\n",
              "  <tbody>\n",
              "    <tr>\n",
              "      <th>count</th>\n",
              "      <td>4.000000</td>\n",
              "      <td>4.000000</td>\n",
              "      <td>4.000000</td>\n",
              "      <td>4.000000</td>\n",
              "    </tr>\n",
              "    <tr>\n",
              "      <th>mean</th>\n",
              "      <td>8.000000</td>\n",
              "      <td>10.250000</td>\n",
              "      <td>10.250000</td>\n",
              "      <td>3.500000</td>\n",
              "    </tr>\n",
              "    <tr>\n",
              "      <th>std</th>\n",
              "      <td>6.683313</td>\n",
              "      <td>6.130525</td>\n",
              "      <td>8.616844</td>\n",
              "      <td>2.380476</td>\n",
              "    </tr>\n",
              "    <tr>\n",
              "      <th>min</th>\n",
              "      <td>2.000000</td>\n",
              "      <td>6.000000</td>\n",
              "      <td>1.000000</td>\n",
              "      <td>1.000000</td>\n",
              "    </tr>\n",
              "    <tr>\n",
              "      <th>25%</th>\n",
              "      <td>2.750000</td>\n",
              "      <td>6.000000</td>\n",
              "      <td>4.000000</td>\n",
              "      <td>1.750000</td>\n",
              "    </tr>\n",
              "    <tr>\n",
              "      <th>50%</th>\n",
              "      <td>7.000000</td>\n",
              "      <td>8.000000</td>\n",
              "      <td>10.500000</td>\n",
              "      <td>3.500000</td>\n",
              "    </tr>\n",
              "    <tr>\n",
              "      <th>75%</th>\n",
              "      <td>12.250000</td>\n",
              "      <td>12.250000</td>\n",
              "      <td>16.750000</td>\n",
              "      <td>5.250000</td>\n",
              "    </tr>\n",
              "    <tr>\n",
              "      <th>max</th>\n",
              "      <td>16.000000</td>\n",
              "      <td>19.000000</td>\n",
              "      <td>19.000000</td>\n",
              "      <td>6.000000</td>\n",
              "    </tr>\n",
              "  </tbody>\n",
              "</table>\n",
              "</div>\n",
              "    <div class=\"colab-df-buttons\">\n",
              "\n",
              "  <div class=\"colab-df-container\">\n",
              "    <button class=\"colab-df-convert\" onclick=\"convertToInteractive('df-84d71797-c931-4054-9806-a6806898295d')\"\n",
              "            title=\"Convert this dataframe to an interactive table.\"\n",
              "            style=\"display:none;\">\n",
              "\n",
              "  <svg xmlns=\"http://www.w3.org/2000/svg\" height=\"24px\" viewBox=\"0 -960 960 960\">\n",
              "    <path d=\"M120-120v-720h720v720H120Zm60-500h600v-160H180v160Zm220 220h160v-160H400v160Zm0 220h160v-160H400v160ZM180-400h160v-160H180v160Zm440 0h160v-160H620v160ZM180-180h160v-160H180v160Zm440 0h160v-160H620v160Z\"/>\n",
              "  </svg>\n",
              "    </button>\n",
              "\n",
              "  <style>\n",
              "    .colab-df-container {\n",
              "      display:flex;\n",
              "      gap: 12px;\n",
              "    }\n",
              "\n",
              "    .colab-df-convert {\n",
              "      background-color: #E8F0FE;\n",
              "      border: none;\n",
              "      border-radius: 50%;\n",
              "      cursor: pointer;\n",
              "      display: none;\n",
              "      fill: #1967D2;\n",
              "      height: 32px;\n",
              "      padding: 0 0 0 0;\n",
              "      width: 32px;\n",
              "    }\n",
              "\n",
              "    .colab-df-convert:hover {\n",
              "      background-color: #E2EBFA;\n",
              "      box-shadow: 0px 1px 2px rgba(60, 64, 67, 0.3), 0px 1px 3px 1px rgba(60, 64, 67, 0.15);\n",
              "      fill: #174EA6;\n",
              "    }\n",
              "\n",
              "    .colab-df-buttons div {\n",
              "      margin-bottom: 4px;\n",
              "    }\n",
              "\n",
              "    [theme=dark] .colab-df-convert {\n",
              "      background-color: #3B4455;\n",
              "      fill: #D2E3FC;\n",
              "    }\n",
              "\n",
              "    [theme=dark] .colab-df-convert:hover {\n",
              "      background-color: #434B5C;\n",
              "      box-shadow: 0px 1px 3px 1px rgba(0, 0, 0, 0.15);\n",
              "      filter: drop-shadow(0px 1px 2px rgba(0, 0, 0, 0.3));\n",
              "      fill: #FFFFFF;\n",
              "    }\n",
              "  </style>\n",
              "\n",
              "    <script>\n",
              "      const buttonEl =\n",
              "        document.querySelector('#df-84d71797-c931-4054-9806-a6806898295d button.colab-df-convert');\n",
              "      buttonEl.style.display =\n",
              "        google.colab.kernel.accessAllowed ? 'block' : 'none';\n",
              "\n",
              "      async function convertToInteractive(key) {\n",
              "        const element = document.querySelector('#df-84d71797-c931-4054-9806-a6806898295d');\n",
              "        const dataTable =\n",
              "          await google.colab.kernel.invokeFunction('convertToInteractive',\n",
              "                                                    [key], {});\n",
              "        if (!dataTable) return;\n",
              "\n",
              "        const docLinkHtml = 'Like what you see? Visit the ' +\n",
              "          '<a target=\"_blank\" href=https://colab.research.google.com/notebooks/data_table.ipynb>data table notebook</a>'\n",
              "          + ' to learn more about interactive tables.';\n",
              "        element.innerHTML = '';\n",
              "        dataTable['output_type'] = 'display_data';\n",
              "        await google.colab.output.renderOutput(dataTable, element);\n",
              "        const docLink = document.createElement('div');\n",
              "        docLink.innerHTML = docLinkHtml;\n",
              "        element.appendChild(docLink);\n",
              "      }\n",
              "    </script>\n",
              "  </div>\n",
              "\n",
              "\n",
              "<div id=\"df-67ed0c00-e8f7-41c1-8230-c7fa55b86e75\">\n",
              "  <button class=\"colab-df-quickchart\" onclick=\"quickchart('df-67ed0c00-e8f7-41c1-8230-c7fa55b86e75')\"\n",
              "            title=\"Suggest charts.\"\n",
              "            style=\"display:none;\">\n",
              "\n",
              "<svg xmlns=\"http://www.w3.org/2000/svg\" height=\"24px\"viewBox=\"0 0 24 24\"\n",
              "     width=\"24px\">\n",
              "    <g>\n",
              "        <path d=\"M19 3H5c-1.1 0-2 .9-2 2v14c0 1.1.9 2 2 2h14c1.1 0 2-.9 2-2V5c0-1.1-.9-2-2-2zM9 17H7v-7h2v7zm4 0h-2V7h2v10zm4 0h-2v-4h2v4z\"/>\n",
              "    </g>\n",
              "</svg>\n",
              "  </button>\n",
              "\n",
              "<style>\n",
              "  .colab-df-quickchart {\n",
              "      --bg-color: #E8F0FE;\n",
              "      --fill-color: #1967D2;\n",
              "      --hover-bg-color: #E2EBFA;\n",
              "      --hover-fill-color: #174EA6;\n",
              "      --disabled-fill-color: #AAA;\n",
              "      --disabled-bg-color: #DDD;\n",
              "  }\n",
              "\n",
              "  [theme=dark] .colab-df-quickchart {\n",
              "      --bg-color: #3B4455;\n",
              "      --fill-color: #D2E3FC;\n",
              "      --hover-bg-color: #434B5C;\n",
              "      --hover-fill-color: #FFFFFF;\n",
              "      --disabled-bg-color: #3B4455;\n",
              "      --disabled-fill-color: #666;\n",
              "  }\n",
              "\n",
              "  .colab-df-quickchart {\n",
              "    background-color: var(--bg-color);\n",
              "    border: none;\n",
              "    border-radius: 50%;\n",
              "    cursor: pointer;\n",
              "    display: none;\n",
              "    fill: var(--fill-color);\n",
              "    height: 32px;\n",
              "    padding: 0;\n",
              "    width: 32px;\n",
              "  }\n",
              "\n",
              "  .colab-df-quickchart:hover {\n",
              "    background-color: var(--hover-bg-color);\n",
              "    box-shadow: 0 1px 2px rgba(60, 64, 67, 0.3), 0 1px 3px 1px rgba(60, 64, 67, 0.15);\n",
              "    fill: var(--button-hover-fill-color);\n",
              "  }\n",
              "\n",
              "  .colab-df-quickchart-complete:disabled,\n",
              "  .colab-df-quickchart-complete:disabled:hover {\n",
              "    background-color: var(--disabled-bg-color);\n",
              "    fill: var(--disabled-fill-color);\n",
              "    box-shadow: none;\n",
              "  }\n",
              "\n",
              "  .colab-df-spinner {\n",
              "    border: 2px solid var(--fill-color);\n",
              "    border-color: transparent;\n",
              "    border-bottom-color: var(--fill-color);\n",
              "    animation:\n",
              "      spin 1s steps(1) infinite;\n",
              "  }\n",
              "\n",
              "  @keyframes spin {\n",
              "    0% {\n",
              "      border-color: transparent;\n",
              "      border-bottom-color: var(--fill-color);\n",
              "      border-left-color: var(--fill-color);\n",
              "    }\n",
              "    20% {\n",
              "      border-color: transparent;\n",
              "      border-left-color: var(--fill-color);\n",
              "      border-top-color: var(--fill-color);\n",
              "    }\n",
              "    30% {\n",
              "      border-color: transparent;\n",
              "      border-left-color: var(--fill-color);\n",
              "      border-top-color: var(--fill-color);\n",
              "      border-right-color: var(--fill-color);\n",
              "    }\n",
              "    40% {\n",
              "      border-color: transparent;\n",
              "      border-right-color: var(--fill-color);\n",
              "      border-top-color: var(--fill-color);\n",
              "    }\n",
              "    60% {\n",
              "      border-color: transparent;\n",
              "      border-right-color: var(--fill-color);\n",
              "    }\n",
              "    80% {\n",
              "      border-color: transparent;\n",
              "      border-right-color: var(--fill-color);\n",
              "      border-bottom-color: var(--fill-color);\n",
              "    }\n",
              "    90% {\n",
              "      border-color: transparent;\n",
              "      border-bottom-color: var(--fill-color);\n",
              "    }\n",
              "  }\n",
              "</style>\n",
              "\n",
              "  <script>\n",
              "    async function quickchart(key) {\n",
              "      const quickchartButtonEl =\n",
              "        document.querySelector('#' + key + ' button');\n",
              "      quickchartButtonEl.disabled = true;  // To prevent multiple clicks.\n",
              "      quickchartButtonEl.classList.add('colab-df-spinner');\n",
              "      try {\n",
              "        const charts = await google.colab.kernel.invokeFunction(\n",
              "            'suggestCharts', [key], {});\n",
              "      } catch (error) {\n",
              "        console.error('Error during call to suggestCharts:', error);\n",
              "      }\n",
              "      quickchartButtonEl.classList.remove('colab-df-spinner');\n",
              "      quickchartButtonEl.classList.add('colab-df-quickchart-complete');\n",
              "    }\n",
              "    (() => {\n",
              "      let quickchartButtonEl =\n",
              "        document.querySelector('#df-67ed0c00-e8f7-41c1-8230-c7fa55b86e75 button');\n",
              "      quickchartButtonEl.style.display =\n",
              "        google.colab.kernel.accessAllowed ? 'block' : 'none';\n",
              "    })();\n",
              "  </script>\n",
              "</div>\n",
              "    </div>\n",
              "  </div>\n"
            ]
          },
          "metadata": {},
          "execution_count": 25
        }
      ]
    },
    {
      "cell_type": "markdown",
      "id": "44cf7107",
      "metadata": {
        "id": "44cf7107"
      },
      "source": [
        "# Extra Credit\n",
        "\n",
        "Using the list of names above, write a program to print a welcome statement\n",
        "to the new students in a class that can be reused each year. The sentenance should say\n",
        "\n",
        "Welcome (Student Name) to Introduction to Data Science 601 (Semester) (Year) semester.\n",
        "\n",
        "Assume that the teacher will create a new list each year but wants the semester and year to be an input."
      ]
    }
  ],
  "metadata": {
    "kernelspec": {
      "display_name": "Python 3 (ipykernel)",
      "language": "python",
      "name": "python3"
    },
    "language_info": {
      "codemirror_mode": {
        "name": "ipython",
        "version": 3
      },
      "file_extension": ".py",
      "mimetype": "text/x-python",
      "name": "python",
      "nbconvert_exporter": "python",
      "pygments_lexer": "ipython3",
      "version": "3.9.13"
    },
    "colab": {
      "provenance": []
    }
  },
  "nbformat": 4,
  "nbformat_minor": 5
}